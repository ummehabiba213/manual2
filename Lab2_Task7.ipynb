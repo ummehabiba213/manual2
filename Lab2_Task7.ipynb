{
 "cells": [
  {
   "cell_type": "code",
   "execution_count": null,
   "id": "eeee1cce",
   "metadata": {},
   "outputs": [],
   "source": [
    "budget=int(input(\"enter buget for a month\"))\n",
    "\n",
    "expenses=0\n",
    "controller\n",
    "while controller<5:\n",
    "    expenses1=int(input(\"enter the expenses:  \"))\n",
    "    expenses=expenses+expenses1\n",
    "    \n",
    "else:\n",
    "    print(\"end loop\")\n",
    "    \n",
    "    \n",
    "#while expenses<=budget or expenses>budget:\n",
    "    #expenses1=int(input(\"enter the utitly bills: \"))\n",
    "    #expenses=expenses+expenses1\n",
    "    #expenses2=int(input(\"enter the rent : \"))\n",
    "    #expenses=expenses+expenses2\n",
    "    #expenses3=int(input(\"enter the socials bills : \"))\n",
    "    #expenses=expenses+expenses3\n",
    "    #expenses4=int(input(\"enter the shopping bill : \"))\n",
    "    #expenses=expenses+expenses4\n",
    "\n",
    "#else:\n",
    " #   print(\"loop end\")\n",
    "    \n",
    "#if expenses<budget:\n",
    "  #      print(\"under budget\")\n",
    "#elif expenses>budget:\n",
    " #       print(\"over budget\")\n"
   ]
  }
 ],
 "metadata": {
  "kernelspec": {
   "display_name": "Python 3",
   "language": "python",
   "name": "python3"
  },
  "language_info": {
   "codemirror_mode": {
    "name": "ipython",
    "version": 3
   },
   "file_extension": ".py",
   "mimetype": "text/x-python",
   "name": "python",
   "nbconvert_exporter": "python",
   "pygments_lexer": "ipython3",
   "version": "3.8.8"
  }
 },
 "nbformat": 4,
 "nbformat_minor": 5
}
