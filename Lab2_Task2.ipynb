{
 "cells": [
  {
   "cell_type": "code",
   "execution_count": 1,
   "id": "e35df268",
   "metadata": {},
   "outputs": [
    {
     "name": "stdout",
     "output_type": "stream",
     "text": [
      "enter total people20\n",
      "enter the hot dogs pakages to be distributed1\n",
      "total hot dogs packages:   1.8\n",
      "hot dogs left over:   8\n",
      "total hot dogs buns packages:    2.25\n",
      "total buns left over:   2\n"
     ]
    }
   ],
   "source": [
    "hot_dogs=10\n",
    "hot_dogs_buns=8\n",
    "total_people=int(input(\"enter total people\"))\n",
    "hot_dogs_package=int(input(\"enter the hot dogs pakages to be distributed\"))\n",
    "total=hot_dogs+hot_dogs_buns\n",
    "print(\"total hot dogs packages:  \" , total/hot_dogs )\n",
    "print(\"hot dogs left over:  \"  ,total%hot_dogs )\n",
    "print(\"total hot dogs buns packages:   \"  , total/hot_dogs_buns)\n",
    "print(\"total buns left over:  \"  , total%hot_dogs_buns)\n"
   ]
  },
  {
   "cell_type": "code",
   "execution_count": null,
   "id": "54af5805",
   "metadata": {},
   "outputs": [],
   "source": []
  }
 ],
 "metadata": {
  "kernelspec": {
   "display_name": "Python 3",
   "language": "python",
   "name": "python3"
  },
  "language_info": {
   "codemirror_mode": {
    "name": "ipython",
    "version": 3
   },
   "file_extension": ".py",
   "mimetype": "text/x-python",
   "name": "python",
   "nbconvert_exporter": "python",
   "pygments_lexer": "ipython3",
   "version": "3.8.8"
  }
 },
 "nbformat": 4,
 "nbformat_minor": 5
}
