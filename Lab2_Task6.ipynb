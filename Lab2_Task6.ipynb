{
 "cells": [
  {
   "cell_type": "code",
   "execution_count": 2,
   "id": "c79a6f1d",
   "metadata": {},
   "outputs": [
    {
     "name": "stdout",
     "output_type": "stream",
     "text": [
      "enter height in inches:  5.0\n",
      "enter weight in pounds:    47\n",
      "body mass index is: 1321.64 \n",
      "overweight\n"
     ]
    }
   ],
   "source": [
    "height=float(input(\"enter height in inches:  \"))\n",
    "weight=int(input(\"enter weight in pounds:    \"))\n",
    "\n",
    "BMI=weight*703/height**2\n",
    "print(\"body mass index is: {:.2f} \" .format(BMI))\n",
    "if BMI>18.5 and BMI<=25:\n",
    "    print(\"weight is optimal: \")\n",
    "elif BMI<18.5:\n",
    "    print(\" underweight\")\n",
    "elif BMI>25:\n",
    "    print(\"overweight\")"
   ]
  },
  {
   "cell_type": "code",
   "execution_count": null,
   "id": "b35a5a6f",
   "metadata": {},
   "outputs": [],
   "source": []
  }
 ],
 "metadata": {
  "kernelspec": {
   "display_name": "Python 3",
   "language": "python",
   "name": "python3"
  },
  "language_info": {
   "codemirror_mode": {
    "name": "ipython",
    "version": 3
   },
   "file_extension": ".py",
   "mimetype": "text/x-python",
   "name": "python",
   "nbconvert_exporter": "python",
   "pygments_lexer": "ipython3",
   "version": "3.8.8"
  }
 },
 "nbformat": 4,
 "nbformat_minor": 5
}
