{
 "cells": [
  {
   "cell_type": "code",
   "execution_count": null,
   "id": "c76d2e1f",
   "metadata": {},
   "outputs": [],
   "source": [
    "print(\"Guess my number between 1 and 1000 with the fewest guesses\")\n",
    "guess=int(input(\"enter the guess\"))\n",
    "#number=int(input(\"enter the number\"))\n",
    "for count in range(0,2):\n",
    "    if guess!=number:\n",
    "        print(\"too high, try again \")\n",
    "        count=count+1\n",
    "        guess=int(input(\" guess gain\"))\n",
    "    if guess==number:\n",
    "        print(\"Congratulations You guessed the number\")\n",
    "      \n",
    "\n",
    "#play_again=input(\"enter y for play again and N for stop\") \n",
    " #if play_again==y:\n",
    "     #   continue\n",
    "#else:\n",
    " #       break\n",
    "    \n",
    "      "
   ]
  }
 ],
 "metadata": {
  "kernelspec": {
   "display_name": "Python 3",
   "language": "python",
   "name": "python3"
  },
  "language_info": {
   "codemirror_mode": {
    "name": "ipython",
    "version": 3
   },
   "file_extension": ".py",
   "mimetype": "text/x-python",
   "name": "python",
   "nbconvert_exporter": "python",
   "pygments_lexer": "ipython3",
   "version": "3.8.8"
  }
 },
 "nbformat": 4,
 "nbformat_minor": 5
}
