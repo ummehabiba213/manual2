{
 "cells": [
  {
   "cell_type": "markdown",
   "id": "d7c7ca57",
   "metadata": {},
   "source": [
    "Write a program that uses nested loops to collect data and calculate the average rainfall over a\n",
    "period of years. The program should first ask for the number of years. The outer loop will iterate\n",
    "once for each year. The inner loop will iterate twelve times, once for each month. Each iteration\n",
    "of the inner loop will ask the user for the inches of rainfall for that month. After all iterations, the\n",
    "program should display the number of months, the total inches of rainfall, and the average rainfall\n",
    "per month for the entire period."
   ]
  },
  {
   "cell_type": "code",
   "execution_count": 4,
   "id": "cecf6211",
   "metadata": {},
   "outputs": [
    {
     "name": "stdout",
     "output_type": "stream",
     "text": [
      "enter the number of years:  1\n",
      "enter inches of rainfall:  2\n",
      "enter inches of rainfall:  2\n",
      "enter inches of rainfall:  2\n",
      "enter inches of rainfall:  2\n",
      "enter inches of rainfall:  2\n",
      "enter inches of rainfall:  2\n",
      "enter inches of rainfall:  2\n",
      "enter inches of rainfall:  2\n",
      "enter inches of rainfall:  2\n",
      "enter inches of rainfall:  2\n",
      "enter inches of rainfall:  2\n",
      "enter inches of rainfall:  2\n",
      "total rainfalls:    24\n",
      "avarage of rainfall:   2.0\n",
      "total month:  12\n",
      "total years:  1\n"
     ]
    }
   ],
   "source": [
    "num_of_years=int(input(\"enter the number of years:  \"))\n",
    "total=0\n",
    "i=0\n",
    "count=0\n",
    "while i<num_of_years:\n",
    "    for j in range(1,13):\n",
    "        rainfall=int(input(\"enter inches of rainfall:  \"))\n",
    "        total=total+rainfall\n",
    "        count+=1\n",
    "    i+=1\n",
    "print(\"total rainfalls:   \"  ,total )\n",
    "print(\"avarage of rainfall:  \" , total/count)\n",
    "print(\"total month: \" , count)\n",
    "print(\"total years: \" , i)\n"
   ]
  },
  {
   "cell_type": "markdown",
   "id": "3097e0bb",
   "metadata": {},
   "source": []
  }
 ],
 "metadata": {
  "kernelspec": {
   "display_name": "Python 3",
   "language": "python",
   "name": "python3"
  },
  "language_info": {
   "codemirror_mode": {
    "name": "ipython",
    "version": 3
   },
   "file_extension": ".py",
   "mimetype": "text/x-python",
   "name": "python",
   "nbconvert_exporter": "python",
   "pygments_lexer": "ipython3",
   "version": "3.8.8"
  }
 },
 "nbformat": 4,
 "nbformat_minor": 5
}
