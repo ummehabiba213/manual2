{
 "cells": [
  {
   "cell_type": "markdown",
   "id": "5951dd29",
   "metadata": {},
   "source": [
    "Write a program that predicts the approximate size of a population of organisms. The application\n",
    "should allow the user to enter the starting number of organisms, the average daily population\n",
    "increase (as a percentage), and the number of days the organisms will be left to multiply. For\n",
    "example, assume the user enters the following values:\n",
    "Starting number of organisms: 2\n",
    "Average daily increase: 30%\n",
    "Number of days to multiply: 10\n",
    "The program should display the following table of data:"
   ]
  },
  {
   "cell_type": "code",
   "execution_count": null,
   "id": "43df09b5",
   "metadata": {},
   "outputs": [],
   "source": [
    "organism=int(input(\"enter the starting number of organism\"))\n",
    "average=int(input(\"average daily increase:   \"))\n",
    "num_multiply=int(input(\"Number of days to multiply:   \"))\n",
    "population=organism\n",
    "for i in range(organism, num_multiply+1):\n",
    "    print(\"population:  {:.2f}\" .foramt(population))\n",
    "    population=(1+average/100)*population\n",
    "    "
   ]
  },
  {
   "cell_type": "code",
   "execution_count": null,
   "id": "28e8bda5",
   "metadata": {},
   "outputs": [],
   "source": []
  }
 ],
 "metadata": {
  "kernelspec": {
   "display_name": "Python 3",
   "language": "python",
   "name": "python3"
  },
  "language_info": {
   "codemirror_mode": {
    "name": "ipython",
    "version": 3
   },
   "file_extension": ".py",
   "mimetype": "text/x-python",
   "name": "python",
   "nbconvert_exporter": "python",
   "pygments_lexer": "ipython3",
   "version": "3.8.8"
  }
 },
 "nbformat": 4,
 "nbformat_minor": 5
}
