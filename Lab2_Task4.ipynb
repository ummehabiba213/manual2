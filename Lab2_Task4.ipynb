{
 "cells": [
  {
   "cell_type": "code",
   "execution_count": 5,
   "id": "ebb60470",
   "metadata": {},
   "outputs": [
    {
     "name": "stdout",
     "output_type": "stream",
     "text": [
      "Enter the number of packages purchased:30\n",
      "total amount that user pay: 2970.00\n",
      "total discount :  594.00\n",
      "total amount of the purchase after the discount :  2376.00\n"
     ]
    }
   ],
   "source": [
    "retail_amount=99\n",
    "quantity=int(input(\"Enter the number of packages purchased:\"))\n",
    "\n",
    "if quantity<10:\n",
    "    discount=0    \n",
    "elif quantity>=10 and quantity<=19:\n",
    "    discount=10/100\n",
    "elif quantity>=20 and quantity<=49:\n",
    "    discount=20/100\n",
    "elif quantity>=50 and quantity<=99:\n",
    "    discount=30/100\n",
    "else:\n",
    "    discount=40/100\n",
    "\n",
    "\n",
    "total=retail_amount*quantity\n",
    "total_discount=total*discount\n",
    "total_amount_purchased=total-total_discount\n",
    "\n",
    "print(\"total amount that user pay: {:.2f}\" .format(total))\n",
    "print(\"total discount :  {:.2f}\" .format(total_discount))\n",
    "print(\"total amount of the purchase after the discount :  {:.2f}\" . format(total_amount_purchased))\n"
   ]
  },
  {
   "cell_type": "code",
   "execution_count": null,
   "id": "fb4b9623",
   "metadata": {},
   "outputs": [],
   "source": []
  }
 ],
 "metadata": {
  "kernelspec": {
   "display_name": "Python 3",
   "language": "python",
   "name": "python3"
  },
  "language_info": {
   "codemirror_mode": {
    "name": "ipython",
    "version": 3
   },
   "file_extension": ".py",
   "mimetype": "text/x-python",
   "name": "python",
   "nbconvert_exporter": "python",
   "pygments_lexer": "ipython3",
   "version": "3.8.8"
  }
 },
 "nbformat": 4,
 "nbformat_minor": 5
}
