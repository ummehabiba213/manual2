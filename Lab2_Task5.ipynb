{
 "cells": [
  {
   "cell_type": "code",
   "execution_count": 11,
   "id": "29ee532f",
   "metadata": {},
   "outputs": [
    {
     "name": "stdout",
     "output_type": "stream",
     "text": [
      "Enter the weight of a package:    8\n",
      "shipping charges in dollars :   4.0\n"
     ]
    }
   ],
   "source": [
    "weight_of_a_package=int(input(\"Enter the weight of a package:    \"))\n",
    "\n",
    "if weight_of_a_package<=2:\n",
    "    shipping_charges=1.50\n",
    "    print(\"shipping charges in dollars :  \" , shipping_charges)\n",
    "elif weight_of_a_package<2 or weight_of_a_package<=6:\n",
    "    shipping_charges=3.00\n",
    "    print(\"shipping charges in dollars :  \" , shipping_charges)\n",
    "elif weight_of_a_package<6 or weight_of_a_package<=10:\n",
    "    shipping_charges=4.00\n",
    "    print(\"shipping charges in dollars :  \" , shipping_charges)\n",
    "else:\n",
    "    shipping_charges=4.75\n",
    "    print(\"shipping charges in dollars :  \" , shipping_charges)\n",
    "    "
   ]
  },
  {
   "cell_type": "code",
   "execution_count": null,
   "id": "017bea44",
   "metadata": {},
   "outputs": [],
   "source": []
  },
  {
   "cell_type": "code",
   "execution_count": null,
   "id": "fb2c57d9",
   "metadata": {},
   "outputs": [],
   "source": []
  }
 ],
 "metadata": {
  "kernelspec": {
   "display_name": "Python 3",
   "language": "python",
   "name": "python3"
  },
  "language_info": {
   "codemirror_mode": {
    "name": "ipython",
    "version": 3
   },
   "file_extension": ".py",
   "mimetype": "text/x-python",
   "name": "python",
   "nbconvert_exporter": "python",
   "pygments_lexer": "ipython3",
   "version": "3.8.8"
  }
 },
 "nbformat": 4,
 "nbformat_minor": 5
}
