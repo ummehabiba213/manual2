{
 "cells": [
  {
   "cell_type": "code",
   "execution_count": null,
   "id": "1ba75432",
   "metadata": {},
   "outputs": [],
   "source": [
    "miles_driven=int(input(\"enter miles driven\"))\n",
    "gallon=int(input(\"enter gallons for each tank\"))\n",
    "count,total=0,0\n",
    "while gallon!=-1:\n",
    "    sub_total=miles_driven/gallon\n",
    "    total=total+sub_total\n",
    "    count=count+1\n",
    "    miles_driven=int(input(\"enter miles\"))\n",
    "    gallon=int(input(\"enter gallons\"))\n",
    "      \n",
    "print(\"Average of miles/gallons \",total/count)\n"
   ]
  },
  {
   "cell_type": "code",
   "execution_count": null,
   "id": "c96b4fbb",
   "metadata": {},
   "outputs": [],
   "source": []
  },
  {
   "cell_type": "code",
   "execution_count": null,
   "id": "a0b6d459",
   "metadata": {},
   "outputs": [],
   "source": []
  }
 ],
 "metadata": {
  "kernelspec": {
   "display_name": "Python 3",
   "language": "python",
   "name": "python3"
  },
  "language_info": {
   "codemirror_mode": {
    "name": "ipython",
    "version": 3
   },
   "file_extension": ".py",
   "mimetype": "text/x-python",
   "name": "python",
   "nbconvert_exporter": "python",
   "pygments_lexer": "ipython3",
   "version": "3.8.8"
  }
 },
 "nbformat": 4,
 "nbformat_minor": 5
}
